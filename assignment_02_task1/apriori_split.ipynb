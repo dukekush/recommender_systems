{
 "cells": [
  {
   "cell_type": "code",
   "execution_count": 1,
   "metadata": {},
   "outputs": [],
   "source": [
    "from itertools import chain, combinations, filterfalse\n",
    "from tqdm import tqdm"
   ]
  },
  {
   "cell_type": "code",
   "execution_count": 72,
   "metadata": {},
   "outputs": [],
   "source": [
    "from itertools import chain, combinations, filterfalse\n",
    "\n",
    "def powerset(iterable):\n",
    "    s = list(iterable)\n",
    "    return chain.from_iterable(combinations(s, r) for r in range(len(s) + 1))\n",
    "\n",
    "def join_set(itemsets, k):\n",
    "    return set(\n",
    "        [itemset1.union(itemset2) for itemset1 in itemsets for itemset2 in itemsets if len(itemset1.union(itemset2)) == k]\n",
    "    )\n",
    "\n",
    "def itemsets_support(transactions, itemsets, min_support):\n",
    "    support_count = {itemset: 0 for itemset in itemsets}\n",
    "    for transaction in transactions:\n",
    "        for itemset in itemsets:\n",
    "            if itemset.issubset(transaction):\n",
    "                support_count[itemset] += 1\n",
    "    n_transactions = len(transactions)\n",
    "    return {itemset: support / n_transactions for itemset, support in support_count.items() if support / n_transactions >= min_support}\n",
    "\n",
    "def apriori(transactions, min_support):\n",
    "    items = set(chain(*transactions))\n",
    "    itemsets = [frozenset([item]) for item in items]\n",
    "    itemsets_by_length = [set()]\n",
    "    k = 1\n",
    "    while itemsets:\n",
    "        support_count = itemsets_support(transactions, itemsets, min_support)\n",
    "        itemsets_by_length.append(set(support_count.keys()))\n",
    "        k += 1\n",
    "        itemsets = join_set(itemsets, k)\n",
    "    frequent_itemsets = set(chain(*itemsets_by_length))\n",
    "    return frequent_itemsets, itemsets_by_length\n",
    "\n",
    "def association_rules(transactions, min_support, min_confidence):\n",
    "    frequent_itemsets, itemsets_by_length = apriori(transactions, min_support)\n",
    "    rules = []\n",
    "    for itemset in frequent_itemsets:\n",
    "        for subset in filterfalse(lambda x: not x, powerset(itemset)):\n",
    "            antecedent = frozenset(subset)\n",
    "            consequent = itemset - antecedent\n",
    "            support_antecedent = len([t for t in transactions if antecedent.issubset(t)]) / len(transactions)\n",
    "            # OLD: \n",
    "            support_itemset = len([t for t in transactions if itemset.issubset(t)]) / len(transactions)\n",
    "            # NEW:\n",
    "            # support_itemset = len([t for t in transactions if (antecedent | consequent).issubset(t)]) / len(transactions)\n",
    "            # NEW:\n",
    "            support_consequent = len([t for t in transactions if consequent.issubset(t)]) / len(transactions)\n",
    "            lift = support_itemset / (support_antecedent * support_consequent)\n",
    "            \n",
    "            # OLD:\n",
    "            # confidence = support_itemset / support_antecedent\n",
    "            # NEW:\n",
    "            confidence = support_itemset / support_antecedent if consequent else support_antecedent\n",
    "\n",
    "            if confidence >= min_confidence and consequent:\n",
    "                # OLD:\n",
    "                # rules.append((antecedent, consequent, support_itemset, confidence))\n",
    "                # NEW:\n",
    "                rules.append((antecedent, consequent, support_itemset, confidence, lift))\n",
    "    return rules"
   ]
  },
  {
   "cell_type": "code",
   "execution_count": 73,
   "metadata": {},
   "outputs": [],
   "source": [
    "transactions = [\n",
    "    {\"beer\", \"wine\", \"cheese\"},\n",
    "    {\"beer\", \"potato chips\"},\n",
    "    {\"eggs\", \"flour\", \"butter\", \"cheese\"},\n",
    "    {\"eggs\", \"flour\", \"butter\", \"beer\", \"potato chips\"},\n",
    "    {\"wine\", \"cheese\"},\n",
    "    {\"potato chips\"},\n",
    "    {\"eggs\", \"flour\", \"butter\", \"wine\", \"cheese\"},\n",
    "    {\"eggs\", \"flour\", \"butter\", \"beer\", \"potato chips\"},\n",
    "    {\"wine\", \"beer\"},\n",
    "    {\"beer\", \"potato chips\"},\n",
    "    {\"butter\", \"eggs\"},\n",
    "    {\"beer\", \"potato chips\"},\n",
    "    {\"flour\", \"eggs\"},\n",
    "    {\"beer\", \"potato chips\"},\n",
    "    {\"eggs\", \"flour\", \"butter\", \"wine\", \"cheese\"},\n",
    "    {\"beer\", \"wine\", \"potato chips\", \"cheese\"},\n",
    "    {\"wine\", \"cheese\"},\n",
    "    {\"beer\", \"potato chips\"},\n",
    "    {\"wine\", \"cheese\"},\n",
    "    {\"beer\", \"potato chips\"}\n",
    "]"
   ]
  },
  {
   "cell_type": "code",
   "execution_count": 74,
   "metadata": {},
   "outputs": [
    {
     "name": "stdout",
     "output_type": "stream",
     "text": [
      "{'potato chips'} => {'beer'} (support=0.450, confidence=0.900, lift=1.636)\n",
      "{'beer'} => {'potato chips'} (support=0.450, confidence=0.818, lift=1.636)\n",
      "{'butter'} => {'eggs'} (support=0.300, confidence=1.000, lift=2.857)\n",
      "{'eggs'} => {'butter'} (support=0.300, confidence=0.857, lift=2.857)\n",
      "{'wine'} => {'cheese'} (support=0.350, confidence=0.875, lift=2.187)\n",
      "{'cheese'} => {'wine'} (support=0.350, confidence=0.875, lift=2.187)\n",
      "{'flour'} => {'eggs'} (support=0.300, confidence=1.000, lift=2.857)\n",
      "{'eggs'} => {'flour'} (support=0.300, confidence=0.857, lift=2.857)\n"
     ]
    }
   ],
   "source": [
    "min_support = 0.3\n",
    "min_confidence = 0.5\n",
    "\n",
    "rules = association_rules(transactions, min_support, min_confidence)\n",
    "for antecedent, consequent, support, confidence, lift in rules:\n",
    "    print(f\"{set(antecedent)} => {set(consequent)} (support={support:.3f}, confidence={confidence:.3f}, lift={lift:.3f})\")"
   ]
  },
  {
   "cell_type": "code",
   "execution_count": 71,
   "metadata": {},
   "outputs": [
    {
     "name": "stdout",
     "output_type": "stream",
     "text": [
      "{'potato chips'} => {'beer'} (support=0.450, confidence=0.900, lift=1.636)\n",
      "{'beer'} => {'potato chips'} (support=0.450, confidence=0.818, lift=1.636)\n",
      "{'butter'} => {'eggs'} (support=0.300, confidence=1.000, lift=2.857)\n",
      "{'eggs'} => {'butter'} (support=0.300, confidence=0.857, lift=2.857)\n",
      "{'wine'} => {'cheese'} (support=0.350, confidence=0.875, lift=2.187)\n",
      "{'cheese'} => {'wine'} (support=0.350, confidence=0.875, lift=2.187)\n",
      "{'flour'} => {'eggs'} (support=0.300, confidence=1.000, lift=2.857)\n",
      "{'eggs'} => {'flour'} (support=0.300, confidence=0.857, lift=2.857)\n"
     ]
    }
   ],
   "source": [
    "min_support = 0.3\n",
    "min_confidence = 0.5\n",
    "\n",
    "rules = association_rules(transactions, min_support, min_confidence)\n",
    "for antecedent, consequent, support, confidence, lift in rules:\n",
    "    print(f\"{set(antecedent)} => {set(consequent)} (support={support:.3f}, confidence={confidence:.3f}, lift={lift:.3f})\")"
   ]
  },
  {
   "cell_type": "code",
   "execution_count": 38,
   "metadata": {},
   "outputs": [],
   "source": [
    "transactions = [\n",
    "    {\"beer\", \"wine\", \"cheese\"},\n",
    "    {\"beer\", \"potato chips\"},\n",
    "    {\"eggs\", \"flour\", \"butter\", \"cheese\"},\n",
    "    {\"eggs\", \"flour\", \"butter\", \"beer\", \"potato chips\"},\n",
    "    {\"wine\", \"cheese\"},\n",
    "    {\"potato chips\"},\n",
    "    {\"eggs\", \"flour\", \"butter\", \"wine\", \"cheese\"},\n",
    "    {\"eggs\", \"flour\", \"butter\", \"beer\", \"potato chips\"},\n",
    "    {\"wine\", \"beer\"},\n",
    "    {\"beer\", \"potato chips\"},\n",
    "    {\"butter\", \"eggs\"},\n",
    "    {\"beer\", \"potato chips\"},\n",
    "    {\"flour\", \"eggs\"},\n",
    "    {\"beer\", \"potato chips\"},\n",
    "    {\"eggs\", \"flour\", \"butter\", \"wine\", \"cheese\"},\n",
    "    {\"beer\", \"wine\", \"potato chips\", \"cheese\"},\n",
    "    {\"wine\", \"cheese\"},\n",
    "    {\"beer\", \"potato chips\"},\n",
    "    {\"wine\", \"cheese\"},\n",
    "    {\"beer\", \"potato chips\"}\n",
    "]"
   ]
  },
  {
   "cell_type": "code",
   "execution_count": 187,
   "metadata": {},
   "outputs": [],
   "source": [
    "transactions = [\n",
    "    {'1', '3', '4'},\n",
    "    {'2', '3', '5'},\n",
    "    {'1', '2', '3', '5'},\n",
    "    {'2', '5'}\n",
    "]"
   ]
  },
  {
   "cell_type": "code",
   "execution_count": 188,
   "metadata": {},
   "outputs": [],
   "source": [
    "min_support = 0.5"
   ]
  },
  {
   "cell_type": "code",
   "execution_count": 189,
   "metadata": {},
   "outputs": [
    {
     "data": {
      "text/plain": [
       "[frozenset({'3'}),\n",
       " frozenset({'1'}),\n",
       " frozenset({'2'}),\n",
       " frozenset({'4'}),\n",
       " frozenset({'5'})]"
      ]
     },
     "execution_count": 189,
     "metadata": {},
     "output_type": "execute_result"
    }
   ],
   "source": [
    "# Apriori\n",
    "items = set(chain(*transactions))  # Get unique items\n",
    "itemsets = [frozenset([item]) for item in items]  # Get itemsets of length 1\n",
    "itemsets_by_length = [set()]\n",
    "itemsets"
   ]
  },
  {
   "cell_type": "code",
   "execution_count": 190,
   "metadata": {},
   "outputs": [
    {
     "data": {
      "text/plain": [
       "({frozenset({'3'}): 0.75,\n",
       "  frozenset({'1'}): 0.5,\n",
       "  frozenset({'2'}): 0.75,\n",
       "  frozenset({'5'}): 0.75},\n",
       " [set(),\n",
       "  {frozenset({'3'}), frozenset({'1'}), frozenset({'2'}), frozenset({'5'})}],\n",
       " True,\n",
       " True)"
      ]
     },
     "execution_count": 190,
     "metadata": {},
     "output_type": "execute_result"
    }
   ],
   "source": [
    "k = 1\n",
    "support_count = itemsets_support(transactions, itemsets, min_support)\n",
    "itemsets_by_length.append(set(support_count.keys()))\n",
    "k += 1\n",
    "support_count, itemsets_by_length, bool(support_count), bool(itemsets)"
   ]
  },
  {
   "cell_type": "code",
   "execution_count": 191,
   "metadata": {},
   "outputs": [
    {
     "data": {
      "text/plain": [
       "{frozenset({'1', '3'}),\n",
       " frozenset({'1', '5'}),\n",
       " frozenset({'2', '3'}),\n",
       " frozenset({'2', '5'}),\n",
       " frozenset({'3', '5'}),\n",
       " frozenset({'1', '2'})}"
      ]
     },
     "execution_count": 191,
     "metadata": {},
     "output_type": "execute_result"
    }
   ],
   "source": [
    "itemsets = join_set(support_count.keys(), k)\n",
    "itemsets"
   ]
  },
  {
   "cell_type": "code",
   "execution_count": 192,
   "metadata": {},
   "outputs": [
    {
     "data": {
      "text/plain": [
       "({frozenset({'1', '3'}): 0.5,\n",
       "  frozenset({'2', '3'}): 0.5,\n",
       "  frozenset({'2', '5'}): 0.75,\n",
       "  frozenset({'3', '5'}): 0.5},\n",
       " [set(),\n",
       "  {frozenset({'3'}), frozenset({'1'}), frozenset({'2'}), frozenset({'5'})},\n",
       "  {frozenset({'2', '3'}),\n",
       "   frozenset({'2', '5'}),\n",
       "   frozenset({'1', '3'}),\n",
       "   frozenset({'3', '5'})}],\n",
       " {frozenset({'1', '3', '5'}),\n",
       "  frozenset({'2', '3', '5'}),\n",
       "  frozenset({'1', '2', '3'})},\n",
       " True,\n",
       " True)"
      ]
     },
     "execution_count": 192,
     "metadata": {},
     "output_type": "execute_result"
    }
   ],
   "source": [
    "k = 2\n",
    "support_count = itemsets_support(transactions, itemsets, min_support)\n",
    "itemsets_by_length.append(set(support_count.keys()))\n",
    "k += 1\n",
    "itemsets = join_set(support_count.keys(), k)\n",
    "support_count, itemsets_by_length, itemsets, bool(support_count), bool(itemsets)"
   ]
  },
  {
   "cell_type": "code",
   "execution_count": 193,
   "metadata": {},
   "outputs": [
    {
     "data": {
      "text/plain": [
       "({frozenset({'2', '3', '5'}): 0.5},\n",
       " [set(),\n",
       "  {frozenset({'3'}), frozenset({'1'}), frozenset({'2'}), frozenset({'5'})},\n",
       "  {frozenset({'2', '3'}),\n",
       "   frozenset({'2', '5'}),\n",
       "   frozenset({'1', '3'}),\n",
       "   frozenset({'3', '5'})},\n",
       "  {frozenset({'2', '3', '5'})}],\n",
       " set(),\n",
       " True,\n",
       " False)"
      ]
     },
     "execution_count": 193,
     "metadata": {},
     "output_type": "execute_result"
    }
   ],
   "source": [
    "k = 3\n",
    "support_count = itemsets_support(transactions, itemsets, min_support)\n",
    "itemsets_by_length.append(set(support_count.keys()))\n",
    "k += 1\n",
    "itemsets = join_set(support_count.keys(), k)\n",
    "support_count, itemsets_by_length, itemsets, bool(support_count), bool(itemsets)"
   ]
  },
  {
   "cell_type": "code",
   "execution_count": 194,
   "metadata": {},
   "outputs": [
    {
     "data": {
      "text/plain": [
       "{frozenset({'2'}),\n",
       " frozenset({'1', '3'}),\n",
       " frozenset({'2', '3'}),\n",
       " frozenset({'1'}),\n",
       " frozenset({'2', '5'}),\n",
       " frozenset({'3'}),\n",
       " frozenset({'5'}),\n",
       " frozenset({'3', '5'}),\n",
       " frozenset({'2', '3', '5'})}"
      ]
     },
     "execution_count": 194,
     "metadata": {},
     "output_type": "execute_result"
    }
   ],
   "source": [
    "frequent_itemsets = set(chain(*itemsets_by_length))\n",
    "frequent_itemsets"
   ]
  },
  {
   "cell_type": "code",
   "execution_count": 195,
   "metadata": {},
   "outputs": [
    {
     "data": {
      "text/plain": [
       "(frozenset({'2'}), frozenset({'1', '3'}))"
      ]
     },
     "execution_count": 195,
     "metadata": {},
     "output_type": "execute_result"
    }
   ],
   "source": [
    "# association_rules\n",
    "rules = []\n",
    "itemset = list(frequent_itemsets)[0]\n",
    "# subset = list(filterfalse(lambda x: not x, powerset(itemset)))[0]\n",
    "subset = list(frequent_itemsets)[1]\n",
    "itemset, subset"
   ]
  }
 ],
 "metadata": {
  "kernelspec": {
   "display_name": "DM",
   "language": "python",
   "name": "python3"
  },
  "language_info": {
   "codemirror_mode": {
    "name": "ipython",
    "version": 3
   },
   "file_extension": ".py",
   "mimetype": "text/x-python",
   "name": "python",
   "nbconvert_exporter": "python",
   "pygments_lexer": "ipython3",
   "version": "3.10.0"
  },
  "orig_nbformat": 4
 },
 "nbformat": 4,
 "nbformat_minor": 2
}
