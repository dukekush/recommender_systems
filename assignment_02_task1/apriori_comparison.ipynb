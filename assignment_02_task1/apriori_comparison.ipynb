{
 "cells": [
  {
   "cell_type": "code",
   "execution_count": 10,
   "metadata": {},
   "outputs": [],
   "source": [
    "from apriori_raw import apriori_raw, association_rules_raw\n",
    "from apriori_fixed import apriori_fixed, association_rules_fixed\n",
    "from mlxtend.frequent_patterns import apriori as apriori_mlextend\n",
    "from mlxtend.frequent_patterns import association_rules as association_rules_mlextend\n",
    "from helpers import mlxtend_encode\n",
    "import pickle"
   ]
  },
  {
   "cell_type": "code",
   "execution_count": 11,
   "metadata": {},
   "outputs": [],
   "source": [
    "transactions_1 = [\n",
    "    {\"A\", \"B\", \"C\"},\n",
    "    {\"A\", \"B\"},\n",
    "    {\"A\", \"C\"},\n",
    "    {\"A\"},\n",
    "    {\"B\", \"C\"},\n",
    "    {\"B\"},\n",
    "    {\"C\"},\n",
    "]\n",
    "\n",
    "transactions_2 = [\n",
    "    {\"beer\", \"wine\", \"cheese\"},\n",
    "    {\"beer\", \"potato chips\"},\n",
    "    {\"eggs\", \"flour\", \"butter\", \"cheese\"},\n",
    "    {\"eggs\", \"flour\", \"butter\", \"beer\", \"potato chips\"},\n",
    "    {\"wine\", \"cheese\"},\n",
    "    {\"potato chips\"},\n",
    "    {\"eggs\", \"flour\", \"butter\", \"wine\", \"cheese\"},\n",
    "    {\"eggs\", \"flour\", \"butter\", \"beer\", \"potato chips\"},\n",
    "    {\"wine\", \"beer\"},\n",
    "    {\"beer\", \"potato chips\"},\n",
    "    {\"butter\", \"eggs\"},\n",
    "    {\"beer\", \"potato chips\"},\n",
    "    {\"flour\", \"eggs\"},\n",
    "    {\"beer\", \"potato chips\"},\n",
    "    {\"eggs\", \"flour\", \"butter\", \"wine\", \"cheese\"},\n",
    "    {\"beer\", \"wine\", \"potato chips\", \"cheese\"},\n",
    "    {\"wine\", \"cheese\"},\n",
    "    {\"beer\", \"potato chips\"},\n",
    "    {\"wine\", \"cheese\"},\n",
    "    {\"beer\", \"potato chips\"}\n",
    "]\n",
    "\n",
    "# All baskets\n",
    "with open('baskets.pkl', 'rb') as f:\n",
    "    transactions_3 = pickle.load(f)"
   ]
  },
  {
   "cell_type": "code",
   "execution_count": 12,
   "metadata": {},
   "outputs": [],
   "source": [
    "transactions_1_mlextend = mlxtend_encode(transactions_1)\n",
    "transactions_2_mlextend = mlxtend_encode(transactions_2)\n",
    "transactions_3_mlextend = mlxtend_encode(transactions_3)"
   ]
  },
  {
   "cell_type": "code",
   "execution_count": 13,
   "metadata": {},
   "outputs": [
    {
     "name": "stdout",
     "output_type": "stream",
     "text": [
      "11.6 µs ± 57.5 ns per loop (mean ± std. dev. of 7 runs, 100,000 loops each)\n"
     ]
    }
   ],
   "source": [
    "%%timeit\n",
    "apriori_raw(transactions_1, 0.1)"
   ]
  },
  {
   "cell_type": "code",
   "execution_count": 14,
   "metadata": {},
   "outputs": [
    {
     "name": "stdout",
     "output_type": "stream",
     "text": [
      "11.8 µs ± 61.5 ns per loop (mean ± std. dev. of 7 runs, 100,000 loops each)\n"
     ]
    }
   ],
   "source": [
    "%%timeit\n",
    "apriori_fixed(transactions_1, 0.1)"
   ]
  },
  {
   "cell_type": "code",
   "execution_count": 15,
   "metadata": {},
   "outputs": [
    {
     "name": "stdout",
     "output_type": "stream",
     "text": [
      "930 µs ± 2.85 µs per loop (mean ± std. dev. of 7 runs, 1,000 loops each)\n"
     ]
    }
   ],
   "source": [
    "%%timeit\n",
    "apriori_mlextend(transactions_1_mlextend, min_support=0.1)"
   ]
  },
  {
   "cell_type": "code",
   "execution_count": 16,
   "metadata": {},
   "outputs": [
    {
     "name": "stdout",
     "output_type": "stream",
     "text": [
      "1.12 ms ± 2.31 µs per loop (mean ± std. dev. of 7 runs, 1,000 loops each)\n"
     ]
    }
   ],
   "source": [
    "%%timeit\n",
    "apriori_raw(transactions_2, 0.1)"
   ]
  },
  {
   "cell_type": "code",
   "execution_count": 17,
   "metadata": {},
   "outputs": [
    {
     "name": "stdout",
     "output_type": "stream",
     "text": [
      "324 µs ± 783 ns per loop (mean ± std. dev. of 7 runs, 1,000 loops each)\n"
     ]
    }
   ],
   "source": [
    "%%timeit\n",
    "apriori_fixed(transactions_2, 0.1)"
   ]
  },
  {
   "cell_type": "code",
   "execution_count": 18,
   "metadata": {},
   "outputs": [
    {
     "name": "stdout",
     "output_type": "stream",
     "text": [
      "1.51 ms ± 19.2 µs per loop (mean ± std. dev. of 7 runs, 1,000 loops each)\n"
     ]
    }
   ],
   "source": [
    "%%timeit\n",
    "apriori_mlextend(transactions_2_mlextend, min_support=0.1)"
   ]
  },
  {
   "cell_type": "code",
   "execution_count": 10,
   "metadata": {},
   "outputs": [],
   "source": [
    "# %%timeit -n 1 -r 1\n",
    "# apriori_raw(transactions_3, 0.1)\n",
    "# # Over 30 mins for one run"
   ]
  },
  {
   "cell_type": "code",
   "execution_count": 11,
   "metadata": {},
   "outputs": [
    {
     "name": "stdout",
     "output_type": "stream",
     "text": [
      "108 ms ± 469 µs per loop (mean ± std. dev. of 7 runs, 10 loops each)\n"
     ]
    }
   ],
   "source": [
    "%%timeit\n",
    "apriori_fixed(transactions_3, 0.1)"
   ]
  },
  {
   "cell_type": "code",
   "execution_count": 12,
   "metadata": {},
   "outputs": [
    {
     "name": "stdout",
     "output_type": "stream",
     "text": [
      "3.27 ms ± 55.5 µs per loop (mean ± std. dev. of 7 runs, 100 loops each)\n"
     ]
    }
   ],
   "source": [
    "%%timeit\n",
    "apriori_mlextend(transactions_3_mlextend, min_support=0.1)"
   ]
  },
  {
   "cell_type": "code",
   "execution_count": 13,
   "metadata": {},
   "outputs": [
    {
     "name": "stdout",
     "output_type": "stream",
     "text": [
      "1.88 s ± 19.6 ms per loop (mean ± std. dev. of 7 runs, 1 loop each)\n"
     ]
    }
   ],
   "source": [
    "%%timeit\n",
    "apriori_fixed(transactions_3, 0.01)"
   ]
  },
  {
   "cell_type": "code",
   "execution_count": 14,
   "metadata": {},
   "outputs": [
    {
     "name": "stdout",
     "output_type": "stream",
     "text": [
      "122 ms ± 3.49 ms per loop (mean ± std. dev. of 7 runs, 1 loop each)\n"
     ]
    }
   ],
   "source": [
    "%%timeit\n",
    "apriori_mlextend(transactions_3_mlextend, min_support=0.01)"
   ]
  }
 ],
 "metadata": {
  "kernelspec": {
   "display_name": "DM",
   "language": "python",
   "name": "python3"
  },
  "language_info": {
   "codemirror_mode": {
    "name": "ipython",
    "version": 3
   },
   "file_extension": ".py",
   "mimetype": "text/x-python",
   "name": "python",
   "nbconvert_exporter": "python",
   "pygments_lexer": "ipython3",
   "version": "3.10.0"
  },
  "orig_nbformat": 4
 },
 "nbformat": 4,
 "nbformat_minor": 2
}
